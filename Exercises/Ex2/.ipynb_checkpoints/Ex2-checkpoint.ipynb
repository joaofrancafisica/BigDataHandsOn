{
 "cells": [
  {
   "cell_type": "markdown",
   "metadata": {
    "id": "IA9y2cGl2aFV"
   },
   "source": [
    "<img src=\"https://farm66.staticflickr.com/65535/49055715328_092031af74_o.png\"  width=\"150\" />\n",
    "\n",
    "### CBPF - Centro Brasileiro de Pesquisas Físicas\n",
    "\n",
    "# Aula 3 - Professor: Clécio R De Bom\n",
    "\n",
    "\n",
    "# Legacy: Catalog manipulation\n",
    "\n",
    "\n",
    "This notebook will illustrate the basics of catalog manipulation, which contains the of data Legacy.\n",
    "\n",
    "**Contact:** debom@cbpf.br</font>\n",
    "/\n",
    "<a href=\"www.clearnightsrthebest.com\">clearnightsrthebest.com</a>\n",
    "\n",
    "<font size=\"2\">\n",
    "\n",
    "Please do not remove this disclaimer.</font>"
   ]
  },
  {
   "cell_type": "markdown",
   "metadata": {
    "id": "8e75SL6wUXnt"
   },
   "source": [
    "# Pre-requirements\n",
    "\n",
    "Download the file catalog from page \n",
    "\n",
    "https://www.dropbox.com/s/pkiccdls9k2jrkz/legacy_dr8_class.fits?dl=0"
   ]
  },
  {
   "cell_type": "code",
   "execution_count": 1,
   "metadata": {
    "colab": {
     "base_uri": "https://localhost:8080/"
    },
    "id": "MliJN7qX2IXR",
    "outputId": "4b590164-0a76-4b07-9500-382aad0057ba"
   },
   "outputs": [
    {
     "name": "stdout",
     "output_type": "stream",
     "text": [
      "--2021-11-02 20:56:49--  https://www.dropbox.com/s/pkiccdls9k2jrkz/legacy_dr8_class.fits?dl=1\n",
      "Resolving www.dropbox.com (www.dropbox.com)... 2620:100:601d:18::a27d:512, 162.125.5.18\n",
      "Connecting to www.dropbox.com (www.dropbox.com)|2620:100:601d:18::a27d:512|:443... connected.\n",
      "HTTP request sent, awaiting response... 301 Moved Permanently\n",
      "Location: /s/dl/pkiccdls9k2jrkz/legacy_dr8_class.fits [following]\n",
      "--2021-11-02 20:56:50--  https://www.dropbox.com/s/dl/pkiccdls9k2jrkz/legacy_dr8_class.fits\n",
      "Reusing existing connection to [www.dropbox.com]:443.\n",
      "HTTP request sent, awaiting response... 302 Found\n",
      "Location: https://ucde6ae61ee41e4dd7e2dea1bb77.dl.dropboxusercontent.com/cd/0/get/BZNzDDZP_ovIZY9lJu2Xke0hVTgoeQz9_getnauPh-251wWwFicZQ8orX3GB05V-QS4QLMDlcMl1FXufFRxC9tJHtDqQQrfxjkEayN1zDvFNHosZYVcWLrKdbEAK6HDkwX_lxYFW_-4XyRRUvevSbmBj/file?dl=1# [following]\n",
      "--2021-11-02 20:56:50--  https://ucde6ae61ee41e4dd7e2dea1bb77.dl.dropboxusercontent.com/cd/0/get/BZNzDDZP_ovIZY9lJu2Xke0hVTgoeQz9_getnauPh-251wWwFicZQ8orX3GB05V-QS4QLMDlcMl1FXufFRxC9tJHtDqQQrfxjkEayN1zDvFNHosZYVcWLrKdbEAK6HDkwX_lxYFW_-4XyRRUvevSbmBj/file?dl=1\n",
      "Resolving ucde6ae61ee41e4dd7e2dea1bb77.dl.dropboxusercontent.com (ucde6ae61ee41e4dd7e2dea1bb77.dl.dropboxusercontent.com)... 2620:100:601d:15::a27d:50f, 162.125.5.15\n",
      "Connecting to ucde6ae61ee41e4dd7e2dea1bb77.dl.dropboxusercontent.com (ucde6ae61ee41e4dd7e2dea1bb77.dl.dropboxusercontent.com)|2620:100:601d:15::a27d:50f|:443... connected.\n",
      "HTTP request sent, awaiting response... 200 OK\n",
      "Length: 35827200 (34M) [application/binary]\n",
      "Saving to: ‘legacy_dr8_class.fits’\n",
      "\n",
      "legacy_dr8_class.fi 100%[===================>]  34,17M  1,49MB/s    in 24s     \n",
      "\n",
      "2021-11-02 20:57:15 (1,45 MB/s) - ‘legacy_dr8_class.fits’ saved [35827200/35827200]\n",
      "\n",
      "Array_MAGR.npy\t\tLegacyCatalog1.csv     NewLegacyCatalog.fits\n",
      "Ex2.ipynb\t\tLegacyCatalog2.csv     PlotsHist_MAGR_Legacy.png\n",
      "Hist_MAGR20_Legacy.png\tlegacy_dr8_class.fits\n"
     ]
    }
   ],
   "source": [
    "!wget -O legacy_dr8_class.fits \"https://www.dropbox.com/s/pkiccdls9k2jrkz/legacy_dr8_class.fits?dl=1\"\n",
    "!ls"
   ]
  },
  {
   "cell_type": "markdown",
   "metadata": {
    "id": "YTZH6UCoZnUG"
   },
   "source": [
    "## Import necessary packages"
   ]
  },
  {
   "cell_type": "code",
   "execution_count": 2,
   "metadata": {
    "id": "Sp7qdQaTZGyT"
   },
   "outputs": [],
   "source": [
    "from astropy.io import fits\n",
    "from astropy.table import Table\n",
    "import numpy as np\n",
    "import matplotlib.pyplot as plt\n",
    "%matplotlib inline\n",
    "import pandas as pd\n",
    "import seaborn\n",
    "import os\n"
   ]
  },
  {
   "cell_type": "markdown",
   "metadata": {
    "id": "Q3Sko_F_ZrAh"
   },
   "source": [
    "# Open catalog from fits table using astropy package"
   ]
  },
  {
   "cell_type": "code",
   "execution_count": 3,
   "metadata": {
    "colab": {
     "base_uri": "https://localhost:8080/"
    },
    "id": "8Wz8yPT4ZsMN",
    "outputId": "6f6f4327-c157-4941-b0cb-f9704e0db7c2"
   },
   "outputs": [
    {
     "name": "stdout",
     "output_type": "stream",
     "text": [
      "        ra                dec         ...        z_spec       training\n",
      "------------------ ------------------ ... ------------------- --------\n",
      "219.08289517954503  34.62503563674176 ...               -99.0      0.0\n",
      "  219.018686653907  34.62537369835652 ...               -99.0      0.0\n",
      " 218.9763831277981 34.626465741964694 ... 0.20600000023841858      1.0\n",
      "218.92461988134852  34.62559613136096 ...               -99.0      0.0\n",
      "219.10422528282172  34.62584794653823 ...               -99.0      0.0\n",
      " 219.1401551191026  34.63060062779776 ...               -99.0      0.0\n",
      "219.07940419061788   34.6265108832743 ...               -99.0      0.0\n",
      "               ...                ... ...                 ...      ...\n",
      "221.30998851742496  35.03107476388605 ...               -99.0      0.0\n",
      "221.30899510953466  35.02957290846069 ...               -99.0      0.0\n",
      " 221.3846269372925  35.03130360684637 ...               -99.0      0.0\n",
      "221.26710586697644  35.03265425222566 ...               -99.0      0.0\n",
      "221.35793083937708   35.0319557953791 ...               -99.0      0.0\n",
      "221.14003466677406 35.031834870454304 ...               -99.0      0.0\n",
      "221.30611517880223 35.032600651235455 ...               -99.0      0.0\n",
      "Length = 203484 rows\n",
      "<TableColumns names=('ra','dec','MAG_R','MAG_G','MAG_Z','MAG_W1','MAG_W2','MAG_W3','MAG_W4','MAGErr_R','MAGErr_G','MAGErr_Z','MAGErr_W1','MAGErr_W2','MAGErr_W3','MAGErr_W4','z','zErr','zmin','zmax','z_spec','training')>\n"
     ]
    }
   ],
   "source": [
    "hdul = fits.open(\"legacy_dr8_class.fits\", ignore_missing_end=True) \n",
    "data = hdul[1].data # table extensions can't be the first extension, so there's a dummy image extension at 1\n",
    "cat_table = Table(data)\n",
    "cols=cat_table.columns\n",
    "print(cat_table)\n",
    "print(cols)"
   ]
  },
  {
   "cell_type": "markdown",
   "metadata": {
    "id": "3pR8zJblYt-4"
   },
   "source": [
    "# Constructing Pandas DataFrame from Table fits"
   ]
  },
  {
   "cell_type": "code",
   "execution_count": 4,
   "metadata": {
    "colab": {
     "base_uri": "https://localhost:8080/"
    },
    "id": "UXAvDKAtYiiQ",
    "outputId": "42b0836e-18e0-4958-d3f1-1e2f40c42c5d"
   },
   "outputs": [
    {
     "name": "stdout",
     "output_type": "stream",
     "text": [
      "                ra        dec      MAG_R      MAG_G      MAG_Z     MAG_W1  \\\n",
      "0       219.082895  34.625036  22.280201  23.840595  20.669277  19.442677   \n",
      "1       219.018687  34.625374  20.950979  22.239498  20.180450  19.764698   \n",
      "2       218.976383  34.626466  18.890739  20.205397  18.109526  18.055065   \n",
      "3       218.924620  34.625596  20.606371  21.781631  19.691599  19.006557   \n",
      "4       219.104225  34.625848  20.372391  21.050526  20.042389  20.373194   \n",
      "...            ...        ...        ...        ...        ...        ...   \n",
      "203479  221.384627  35.031304  20.289848  22.006527  19.473064  18.800829   \n",
      "203480  221.267106  35.032654  22.278854  24.686527  21.332008  20.327465   \n",
      "203481  221.357931  35.031956  21.256090  22.794085  20.244637  18.834969   \n",
      "203482  221.140035  35.031835  20.928772  22.810913  19.648155  18.766457   \n",
      "203483  221.306115  35.032601  22.024387  23.518301  20.663643  19.733841   \n",
      "\n",
      "           MAG_W2     MAG_W3     MAG_W4  MAGErr_R  ...  MAGErr_W1  MAGErr_W2  \\\n",
      "0       19.876930  16.879316        NaN  0.068069  ...   0.030203   0.102416   \n",
      "1       20.027622  18.840683        NaN  0.020584  ...   0.040873   0.118477   \n",
      "2       18.447739        NaN        NaN  0.005011  ...   0.009083   0.029333   \n",
      "3       19.443335  20.748812        NaN  0.020479  ...   0.021253   0.071826   \n",
      "4       20.973274  19.442488  17.469923  0.018710  ...   0.078672   0.304236   \n",
      "...           ...        ...        ...       ...  ...        ...        ...   \n",
      "203479  19.199001  22.347729        NaN  0.023790  ...   0.017453   0.056976   \n",
      "203480  21.582365        NaN  15.524459  0.155021  ...   0.070509   0.506848   \n",
      "203481  19.022402  17.893970  16.110783  0.057986  ...   0.018522   0.049890   \n",
      "203482  19.179871        NaN        NaN  0.033461  ...   0.016835   0.056150   \n",
      "203483  20.518625        NaN        NaN  0.079692  ...   0.040753   0.190262   \n",
      "\n",
      "        MAGErr_W3  MAGErr_W4         z      zErr      zmin      zmax  z_spec  \\\n",
      "0        0.114776  -0.075900  0.778901  0.080700  0.702562  0.863962 -99.000   \n",
      "1        0.706567  -0.799649  0.335511  0.054689  0.288449  0.397827 -99.000   \n",
      "2       -9.551555  -0.682852  0.219682  0.010735  0.209061  0.230530   0.206   \n",
      "3        4.317370  -0.843075  0.542923  0.051388  0.485855  0.588631 -99.000   \n",
      "4        1.281699   1.788509  0.227206  0.033312  0.191055  0.257679 -99.000   \n",
      "...           ...        ...       ...       ...       ...       ...     ...   \n",
      "203479  18.655874  -0.504265  0.399513  0.029692  0.371137  0.430521 -99.000   \n",
      "203480  -0.115952   0.318850  0.525794  0.076385  0.445291  0.598062 -99.000   \n",
      "203481   0.324572   0.561515  0.497148  0.061960  0.444781  0.568702 -99.000   \n",
      "203482  -1.286056  -0.460461  0.561410  0.034761  0.527032  0.596554 -99.000   \n",
      "203483  -0.767880  -0.541523  0.670019  0.082765  0.608144  0.773673 -99.000   \n",
      "\n",
      "        training  \n",
      "0            0.0  \n",
      "1            0.0  \n",
      "2            1.0  \n",
      "3            0.0  \n",
      "4            0.0  \n",
      "...          ...  \n",
      "203479       0.0  \n",
      "203480       0.0  \n",
      "203481       0.0  \n",
      "203482       0.0  \n",
      "203483       0.0  \n",
      "\n",
      "[203484 rows x 22 columns]\n"
     ]
    }
   ],
   "source": [
    "df = cat_table.to_pandas()\n",
    "print(df)"
   ]
  },
  {
   "cell_type": "markdown",
   "metadata": {
    "id": "MmXYOVRw1i4w"
   },
   "source": [
    "# Add column Pandas DataFrame"
   ]
  },
  {
   "cell_type": "code",
   "execution_count": 5,
   "metadata": {
    "colab": {
     "base_uri": "https://localhost:8080/"
    },
    "id": "dnGXqmCG1taK",
    "outputId": "9a62a37e-b904-4e21-e371-d930a98147eb"
   },
   "outputs": [
    {
     "name": "stdout",
     "output_type": "stream",
     "text": [
      "                        ra                 dec      MAG_R      MAG_G  \\\n",
      "0       219.08289517954503   34.62503563674176  22.280201  23.840595   \n",
      "1         219.018686653907   34.62537369835652  20.950979  22.239498   \n",
      "2        218.9763831277981  34.626465741964694  18.890739  20.205397   \n",
      "3       218.92461988134852   34.62559613136096  20.606371  21.781631   \n",
      "4       219.10422528282172   34.62584794653823  20.372391  21.050526   \n",
      "...                    ...                 ...        ...        ...   \n",
      "203479   221.3846269372925   35.03130360684637  20.289848  22.006527   \n",
      "203480  221.26710586697644   35.03265425222566  22.278854  24.686527   \n",
      "203481  221.35793083937708    35.0319557953791  21.256090  22.794085   \n",
      "203482  221.14003466677406  35.031834870454304  20.928772  22.810913   \n",
      "203483  221.30611517880223  35.032600651235455  22.024387  23.518301   \n",
      "\n",
      "            MAG_Z     MAG_W1     MAG_W2     MAG_W3     MAG_W4  MAGErr_R  ...  \\\n",
      "0       20.669277  19.442677  19.876930  16.879316        NaN  0.068069  ...   \n",
      "1       20.180450  19.764698  20.027622  18.840683        NaN  0.020584  ...   \n",
      "2       18.109526  18.055065  18.447739        NaN        NaN  0.005011  ...   \n",
      "3       19.691599  19.006557  19.443335  20.748812        NaN  0.020479  ...   \n",
      "4       20.042389  20.373194  20.973274  19.442488  17.469923  0.018710  ...   \n",
      "...           ...        ...        ...        ...        ...       ...  ...   \n",
      "203479  19.473064  18.800829  19.199001  22.347729        NaN  0.023790  ...   \n",
      "203480  21.332008  20.327465  21.582365        NaN  15.524459  0.155021  ...   \n",
      "203481  20.244637  18.834969  19.022402  17.893970  16.110783  0.057986  ...   \n",
      "203482  19.648155  18.766457  19.179871        NaN        NaN  0.033461  ...   \n",
      "203483  20.663643  19.733841  20.518625        NaN        NaN  0.079692  ...   \n",
      "\n",
      "        MAGErr_W2  MAGErr_W3  MAGErr_W4         z      zErr      zmin  \\\n",
      "0        0.102416   0.114776  -0.075900  0.778901  0.080700  0.702562   \n",
      "1        0.118477   0.706567  -0.799649  0.335511  0.054689  0.288449   \n",
      "2        0.029333  -9.551555  -0.682852  0.219682  0.010735  0.209061   \n",
      "3        0.071826   4.317370  -0.843075  0.542923  0.051388  0.485855   \n",
      "4        0.304236   1.281699   1.788509  0.227206  0.033312  0.191055   \n",
      "...           ...        ...        ...       ...       ...       ...   \n",
      "203479   0.056976  18.655874  -0.504265  0.399513  0.029692  0.371137   \n",
      "203480   0.506848  -0.115952   0.318850  0.525794  0.076385  0.445291   \n",
      "203481   0.049890   0.324572   0.561515  0.497148  0.061960  0.444781   \n",
      "203482   0.056150  -1.286056  -0.460461  0.561410  0.034761  0.527032   \n",
      "203483   0.190262  -0.767880  -0.541523  0.670019  0.082765  0.608144   \n",
      "\n",
      "            zmax  z_spec  training                                   _id  \n",
      "0       0.863962 -99.000       0.0   219.0828951795450334.62503563674176  \n",
      "1       0.397827 -99.000       0.0     219.01868665390734.62537369835652  \n",
      "2       0.230530   0.206       1.0   218.976383127798134.626465741964694  \n",
      "3       0.588631 -99.000       0.0   218.9246198813485234.62559613136096  \n",
      "4       0.257679 -99.000       0.0   219.1042252828217234.62584794653823  \n",
      "...          ...     ...       ...                                   ...  \n",
      "203479  0.430521 -99.000       0.0    221.384626937292535.03130360684637  \n",
      "203480  0.598062 -99.000       0.0   221.2671058669764435.03265425222566  \n",
      "203481  0.568702 -99.000       0.0    221.3579308393770835.0319557953791  \n",
      "203482  0.596554 -99.000       0.0  221.1400346667740635.031834870454304  \n",
      "203483  0.773673 -99.000       0.0  221.3061151788022335.032600651235455  \n",
      "\n",
      "[203484 rows x 23 columns]\n"
     ]
    }
   ],
   "source": [
    "new_col = \"_id\" # name new column\n",
    "df['ra'] = df['ra'].astype(str) # change numbers to string\n",
    "df['dec'] = df['dec'].astype(str) # change numbers to string\n",
    "df[new_col] = df['ra'] + df['dec'] # join two columns\n",
    "print(df)"
   ]
  },
  {
   "cell_type": "markdown",
   "metadata": {
    "id": "h77Gx8xJ4xgt"
   },
   "source": [
    "#Splitting in two Dataframe"
   ]
  },
  {
   "cell_type": "code",
   "execution_count": 6,
   "metadata": {
    "colab": {
     "base_uri": "https://localhost:8080/"
    },
    "id": "9YcqLD514pLP",
    "outputId": "c994761d-65f5-46b1-ad98-35390dbcc2f6"
   },
   "outputs": [
    {
     "name": "stdout",
     "output_type": "stream",
     "text": [
      "Daframe 1\n",
      "                                         _id      MAG_R      MAG_G      MAG_Z  \\\n",
      "0        219.0828951795450334.62503563674176  22.280201  23.840595  20.669277   \n",
      "1          219.01868665390734.62537369835652  20.950979  22.239498  20.180450   \n",
      "2        218.976383127798134.626465741964694  18.890739  20.205397  18.109526   \n",
      "3        218.9246198813485234.62559613136096  20.606371  21.781631  19.691599   \n",
      "4        219.1042252828217234.62584794653823  20.372391  21.050526  20.042389   \n",
      "...                                      ...        ...        ...        ...   \n",
      "203479    221.384626937292535.03130360684637  20.289848  22.006527  19.473064   \n",
      "203480   221.2671058669764435.03265425222566  22.278854  24.686527  21.332008   \n",
      "203481    221.3579308393770835.0319557953791  21.256090  22.794085  20.244637   \n",
      "203482  221.1400346667740635.031834870454304  20.928772  22.810913  19.648155   \n",
      "203483  221.3061151788022335.032600651235455  22.024387  23.518301  20.663643   \n",
      "\n",
      "           MAG_W1     MAG_W2     MAG_W3     MAG_W4  MAGErr_R  MAGErr_G  \\\n",
      "0       19.442677  19.876930  16.879316        NaN  0.068069  0.186609   \n",
      "1       19.764698  20.027622  18.840683        NaN  0.020584  0.050908   \n",
      "2       18.055065  18.447739        NaN        NaN  0.005011  0.011483   \n",
      "3       19.006557  19.443335  20.748812        NaN  0.020479  0.043270   \n",
      "4       20.373194  20.973274  19.442488  17.469923  0.018710  0.025214   \n",
      "...           ...        ...        ...        ...       ...       ...   \n",
      "203479  18.800829  19.199001  22.347729        NaN  0.023790  0.058753   \n",
      "203480  20.327465  21.582365        NaN  15.524459  0.155021  0.703358   \n",
      "203481  18.834969  19.022402  17.893970  16.110783  0.057986  0.140764   \n",
      "203482  18.766457  19.179871        NaN        NaN  0.033461  0.111600   \n",
      "203483  19.733841  20.518625        NaN        NaN  0.079692  0.186413   \n",
      "\n",
      "        MAGErr_Z  MAGErr_W1  MAGErr_W2  MAGErr_W3  MAGErr_W4  \n",
      "0       0.019647   0.030203   0.102416   0.114776  -0.075900  \n",
      "1       0.015757   0.040873   0.118477   0.706567  -0.799649  \n",
      "2       0.003473   0.009083   0.029333  -9.551555  -0.682852  \n",
      "3       0.017061   0.021253   0.071826   4.317370  -0.843075  \n",
      "4       0.022851   0.078672   0.304236   1.281699   1.788509  \n",
      "...          ...        ...        ...        ...        ...  \n",
      "203479  0.023217   0.017453   0.056976  18.655874  -0.504265  \n",
      "203480  0.151881   0.070509   0.506848  -0.115952   0.318850  \n",
      "203481  0.046815   0.018522   0.049890   0.324572   0.561515  \n",
      "203482  0.021100   0.016835   0.056150  -1.286056  -0.460461  \n",
      "203483  0.058294   0.040753   0.190262  -0.767880  -0.541523  \n",
      "\n",
      "[203484 rows x 15 columns]\n",
      "['_id', 'MAG_R', 'MAG_G', 'MAG_Z', 'MAG_W1', 'MAG_W2', 'MAG_W3', 'MAG_W4', 'MAGErr_R', 'MAGErr_G', 'MAGErr_Z', 'MAGErr_W1', 'MAGErr_W2', 'MAGErr_W3', 'MAGErr_W4']\n",
      "********************************\n",
      "Daframe 2\n",
      "                                         _id         z      zErr      zmin  \\\n",
      "0        219.0828951795450334.62503563674176  0.778901  0.080700  0.702562   \n",
      "1          219.01868665390734.62537369835652  0.335511  0.054689  0.288449   \n",
      "2        218.976383127798134.626465741964694  0.219682  0.010735  0.209061   \n",
      "3        218.9246198813485234.62559613136096  0.542923  0.051388  0.485855   \n",
      "4        219.1042252828217234.62584794653823  0.227206  0.033312  0.191055   \n",
      "...                                      ...       ...       ...       ...   \n",
      "203479    221.384626937292535.03130360684637  0.399513  0.029692  0.371137   \n",
      "203480   221.2671058669764435.03265425222566  0.525794  0.076385  0.445291   \n",
      "203481    221.3579308393770835.0319557953791  0.497148  0.061960  0.444781   \n",
      "203482  221.1400346667740635.031834870454304  0.561410  0.034761  0.527032   \n",
      "203483  221.3061151788022335.032600651235455  0.670019  0.082765  0.608144   \n",
      "\n",
      "            zmax  z_spec  \n",
      "0       0.863962 -99.000  \n",
      "1       0.397827 -99.000  \n",
      "2       0.230530   0.206  \n",
      "3       0.588631 -99.000  \n",
      "4       0.257679 -99.000  \n",
      "...          ...     ...  \n",
      "203479  0.430521 -99.000  \n",
      "203480  0.598062 -99.000  \n",
      "203481  0.568702 -99.000  \n",
      "203482  0.596554 -99.000  \n",
      "203483  0.773673 -99.000  \n",
      "\n",
      "[203484 rows x 6 columns]\n",
      "['_id', 'z', 'zErr', 'zmin', 'zmax', 'z_spec']\n"
     ]
    }
   ],
   "source": [
    "print(\"Daframe 1\")\n",
    "df_1 = df.iloc[:,2:-7] # set mags columns dataframe 1 from dataframe\n",
    "df_1[new_col] = df[new_col] # insert ID column\n",
    "cols1 = df_1.columns.tolist()\n",
    "cols1 = cols1[-1:] + cols1[:-1] # set first column _id\n",
    "df_1 = df_1[cols1] # set first column _id\n",
    "print(df_1)\n",
    "print(df_1.columns.tolist())\n",
    "print(\"********************************\")\n",
    "print(\"Daframe 2\")\n",
    "df_2 = df.iloc[:,-7:-2] # set photoz columns dataframe 1 from dataframe\n",
    "df_2[new_col] = df[new_col] # insert ID column\n",
    "cols2 = df_2.columns.tolist()\n",
    "cols2 = cols2[-1:] + cols2[:-1] # set first column _id\n",
    "df_2 = df_2[cols2] # set first column _id\n",
    "print(df_2)\n",
    "print(df_2.columns.tolist())"
   ]
  },
  {
   "cell_type": "markdown",
   "metadata": {
    "id": "iQqN9ZwAad04"
   },
   "source": [
    "# Mounting your google drive\n",
    "\n",
    "To mount your google drive:\n",
    "click in showed link and set your account google get token "
   ]
  },
  {
   "cell_type": "code",
   "execution_count": 7,
   "metadata": {
    "colab": {
     "base_uri": "https://localhost:8080/"
    },
    "id": "74yVeL9haZc_",
    "outputId": "e1fea60f-d4d3-466e-be06-833164202f99"
   },
   "outputs": [],
   "source": [
    "#from google.colab import drive\n",
    "#drive.mount('/content/drive')\n",
    "DriveSave = './' # define folder save in Google Drive"
   ]
  },
  {
   "cell_type": "markdown",
   "metadata": {
    "id": "51TYaId_ZIKr"
   },
   "source": [
    "# Saving New Catalogs with Pandas Dataframe in csv \n",
    "\n",
    "\n",
    "(Google Drive)"
   ]
  },
  {
   "cell_type": "code",
   "execution_count": 8,
   "metadata": {
    "id": "rKjQg-t5ZQtB"
   },
   "outputs": [],
   "source": [
    "df_1.to_csv(os.path.join(DriveSave,'LegacyCatalog1.csv'), index=False)\n",
    "df_2.to_csv(os.path.join(DriveSave,'LegacyCatalog2.csv'), index=False)\n"
   ]
  },
  {
   "cell_type": "markdown",
   "metadata": {
    "id": "joz1TpHPiQpt"
   },
   "source": [
    "# Loading New Catalogs with Pandas Dataframe in csv "
   ]
  },
  {
   "cell_type": "code",
   "execution_count": 9,
   "metadata": {
    "id": "w6fvP6Z8iOtG"
   },
   "outputs": [],
   "source": [
    "df_1 = pd.read_csv(os.path.join(DriveSave,'LegacyCatalog1.csv')) \n",
    "df_2 = pd.read_csv(os.path.join(DriveSave,'LegacyCatalog2.csv')) "
   ]
  },
  {
   "cell_type": "markdown",
   "metadata": {
    "id": "YTSAJdM3DO6B"
   },
   "source": [
    "# Using the _id column as a reference finally we can now performance the join operation"
   ]
  },
  {
   "cell_type": "code",
   "execution_count": 10,
   "metadata": {
    "colab": {
     "base_uri": "https://localhost:8080/"
    },
    "id": "BDiGKk_jDPqV",
    "outputId": "ca18c328-2834-47e0-8164-e73efcd5baac"
   },
   "outputs": [
    {
     "name": "stdout",
     "output_type": "stream",
     "text": [
      "                                         _id         z      zErr      zmin  \\\n",
      "0        219.0828951795450334.62503563674176  0.778901  0.080700  0.702562   \n",
      "1          219.01868665390734.62537369835652  0.335511  0.054689  0.288449   \n",
      "2        218.976383127798134.626465741964694  0.219682  0.010735  0.209061   \n",
      "3        218.9246198813485234.62559613136096  0.542923  0.051388  0.485855   \n",
      "4        219.1042252828217234.62584794653823  0.227206  0.033312  0.191055   \n",
      "...                                      ...       ...       ...       ...   \n",
      "203479    221.384626937292535.03130360684637  0.399513  0.029692  0.371137   \n",
      "203480   221.2671058669764435.03265425222566  0.525794  0.076385  0.445291   \n",
      "203481    221.3579308393770835.0319557953791  0.497148  0.061960  0.444781   \n",
      "203482  221.1400346667740635.031834870454304  0.561410  0.034761  0.527032   \n",
      "203483  221.3061151788022335.032600651235455  0.670019  0.082765  0.608144   \n",
      "\n",
      "            zmax  z_spec      MAG_R      MAG_G      MAG_Z     MAG_W1  \\\n",
      "0       0.863962 -99.000  22.280201  23.840595  20.669277  19.442677   \n",
      "1       0.397827 -99.000  20.950979  22.239498  20.180450  19.764698   \n",
      "2       0.230530   0.206  18.890739  20.205397  18.109526  18.055065   \n",
      "3       0.588631 -99.000  20.606371  21.781631  19.691599  19.006557   \n",
      "4       0.257679 -99.000  20.372391  21.050526  20.042389  20.373194   \n",
      "...          ...     ...        ...        ...        ...        ...   \n",
      "203479  0.430521 -99.000  20.289848  22.006527  19.473064  18.800829   \n",
      "203480  0.598062 -99.000  22.278854  24.686527  21.332008  20.327465   \n",
      "203481  0.568702 -99.000  21.256090  22.794085  20.244637  18.834969   \n",
      "203482  0.596554 -99.000  20.928772  22.810913  19.648155  18.766457   \n",
      "203483  0.773673 -99.000  22.024387  23.518301  20.663643  19.733841   \n",
      "\n",
      "           MAG_W2     MAG_W3     MAG_W4  MAGErr_R  MAGErr_G  MAGErr_Z  \\\n",
      "0       19.876930  16.879316        NaN  0.068069  0.186609  0.019647   \n",
      "1       20.027622  18.840683        NaN  0.020584  0.050908  0.015757   \n",
      "2       18.447739        NaN        NaN  0.005011  0.011483  0.003473   \n",
      "3       19.443335  20.748812        NaN  0.020479  0.043270  0.017061   \n",
      "4       20.973274  19.442488  17.469923  0.018710  0.025214  0.022851   \n",
      "...           ...        ...        ...       ...       ...       ...   \n",
      "203479  19.199001  22.347729        NaN  0.023790  0.058753  0.023217   \n",
      "203480  21.582365        NaN  15.524459  0.155021  0.703358  0.151881   \n",
      "203481  19.022402  17.893970  16.110783  0.057986  0.140764  0.046815   \n",
      "203482  19.179871        NaN        NaN  0.033461  0.111600  0.021100   \n",
      "203483  20.518625        NaN        NaN  0.079692  0.186413  0.058294   \n",
      "\n",
      "        MAGErr_W1  MAGErr_W2  MAGErr_W3  MAGErr_W4  \n",
      "0        0.030203   0.102416   0.114776  -0.075900  \n",
      "1        0.040873   0.118477   0.706567  -0.799649  \n",
      "2        0.009083   0.029333  -9.551555  -0.682852  \n",
      "3        0.021253   0.071826   4.317370  -0.843075  \n",
      "4        0.078672   0.304236   1.281699   1.788509  \n",
      "...           ...        ...        ...        ...  \n",
      "203479   0.017453   0.056976  18.655874  -0.504265  \n",
      "203480   0.070509   0.506848  -0.115952   0.318850  \n",
      "203481   0.018522   0.049890   0.324572   0.561515  \n",
      "203482   0.016835   0.056150  -1.286056  -0.460461  \n",
      "203483   0.040753   0.190262  -0.767880  -0.541523  \n",
      "\n",
      "[203622 rows x 20 columns]\n",
      "['_id', 'z', 'zErr', 'zmin', 'zmax', 'z_spec', 'MAG_R', 'MAG_G', 'MAG_Z', 'MAG_W1', 'MAG_W2', 'MAG_W3', 'MAG_W4', 'MAGErr_R', 'MAGErr_G', 'MAGErr_Z', 'MAGErr_W1', 'MAGErr_W2', 'MAGErr_W3', 'MAGErr_W4']\n"
     ]
    }
   ],
   "source": [
    "DF_mag = df_1.set_index(new_col)\n",
    "DF = df_2.join(DF_mag, on=new_col)\n",
    "print(DF)\n",
    "print(DF.columns.tolist())"
   ]
  },
  {
   "cell_type": "markdown",
   "metadata": {
    "id": "m0pR3II87CpY"
   },
   "source": [
    "# Now save and load new dataframe in table fits"
   ]
  },
  {
   "cell_type": "code",
   "execution_count": 11,
   "metadata": {
    "colab": {
     "base_uri": "https://localhost:8080/"
    },
    "id": "ZuBc5ToE7DSZ",
    "outputId": "ad8fbe3f-d2e7-4cb6-ad04-39698e559617"
   },
   "outputs": [
    {
     "name": "stdout",
     "output_type": "stream",
     "text": [
      "                _id                          z          ...      MAGErr_W4     \n",
      "------------------------------------ ------------------ ... -------------------\n",
      " 219.0828951795450334.62503563674176  0.778901219367981 ... -0.0759001150727272\n",
      "   219.01868665390734.62537369835652 0.3355111181735992 ... -0.7996485233306885\n",
      " 218.976383127798134.626465741964694 0.2196822762489318 ... -0.6828519701957703\n",
      " 218.9246198813485234.62559613136096  0.542923092842102 ... -0.8430752158164978\n",
      " 219.1042252828217234.62584794653823 0.2272058278322219 ...  1.7885087728500366\n",
      "  219.140155119102634.63060062779776 0.4622515141963959 ...  -0.840893566608429\n",
      "  219.0794041906178834.6265108832743 0.7665448784828186 ...  -2.698615789413452\n",
      "                                 ...                ... ...                 ...\n",
      " 221.3099885174249635.03107476388605 0.4882799386978149 ...  19.238523483276367\n",
      " 221.3089951095346635.02957290846069 0.8793555498123169 ...   2.468910217285156\n",
      "  221.384626937292535.03130360684637 0.3995134830474853 ... -0.5042646527290344\n",
      " 221.2671058669764435.03265425222566 0.5257939696311951 ...  0.3188504874706268\n",
      "  221.3579308393770835.0319557953791 0.4971484541893005 ...  0.5615150332450867\n",
      "221.1400346667740635.031834870454304 0.5614101886749268 ... -0.4604606926441192\n",
      "221.3061151788022335.032600651235455 0.6700193881988525 ... -0.5415232181549072\n",
      "Length = 203622 rows\n",
      "<TableColumns names=('_id','z','zErr','zmin','zmax','z_spec','MAG_R','MAG_G','MAG_Z','MAG_W1','MAG_W2','MAG_W3','MAG_W4','MAGErr_R','MAGErr_G','MAGErr_Z','MAGErr_W1','MAGErr_W2','MAGErr_W3','MAGErr_W4')>\n"
     ]
    }
   ],
   "source": [
    "t2 = Table.from_pandas(DF)\n",
    "fits_table_filename = os.path.join(DriveSave,'NewLegacyCatalog.fits')\n",
    "hdu = fits.BinTableHDU(data=t2)\n",
    "hdu.writeto(fits_table_filename, overwrite=True)\n",
    "\n",
    "hdul = fits.open(fits_table_filename, ignore_missing_end=True) \n",
    "data = hdul[1].data # table extensions can't be the first extension, so there's a dummy image extension at 1\n",
    "cat_table = Table(data)\n",
    "cols=cat_table.columns\n",
    "print(cat_table)\n",
    "print(cols)"
   ]
  },
  {
   "cell_type": "markdown",
   "metadata": {
    "id": "eVprdVG6Gl2e"
   },
   "source": [
    "# Set Dataframe condition (mag R < 20)"
   ]
  },
  {
   "cell_type": "code",
   "execution_count": 12,
   "metadata": {
    "colab": {
     "base_uri": "https://localhost:8080/"
    },
    "id": "OeUMNKitGmvQ",
    "outputId": "9d69b1f1-9f4b-4508-c11f-fa0e91c58860"
   },
   "outputs": [
    {
     "name": "stdout",
     "output_type": "stream",
     "text": [
      "                                         _id         z      zErr      zmin  \\\n",
      "2        218.976383127798134.626465741964694  0.219682  0.010735  0.209061   \n",
      "14        219.119427344439634.63266943455789  0.181169  0.014108  0.169253   \n",
      "27      219.1050832410185834.637306709538635  0.195434  0.034806  0.173423   \n",
      "28       219.1116303379641334.63846217402524  0.195882  0.010257  0.188277   \n",
      "30        218.893899457402334.63850522158348  0.383395  0.064554  0.320165   \n",
      "...                                      ...       ...       ...       ...   \n",
      "203438    221.260260333561435.01373075174152  0.400500  0.040343  0.357554   \n",
      "203440    221.402609501773135.01676962316078  0.150196  0.035478  0.116340   \n",
      "203441    221.403223664121935.01955191933627  0.131958  0.084791  0.035688   \n",
      "203450    221.407621549922235.01804876804364  0.508276  0.057083  0.433342   \n",
      "203457   221.3141799824552235.02015887305804  0.202796  0.046221  0.152524   \n",
      "\n",
      "            zmax  z_spec      MAG_R      MAG_G      MAG_Z     MAG_W1  \\\n",
      "2       0.230530   0.206  18.890739  20.205397  18.109526  18.055065   \n",
      "14      0.197469   0.186  17.951214  18.725872  17.421986  17.605015   \n",
      "27      0.243035   0.185  18.449135  19.666044  17.633009  17.470276   \n",
      "28      0.208790   0.186  18.476810  19.731552  17.749542  17.789030   \n",
      "30      0.449272   0.460  19.982281  20.972868  19.534878  19.232071   \n",
      "...          ...     ...        ...        ...        ...        ...   \n",
      "203438  0.438240 -99.000  19.377346  20.826118  18.519417  17.915764   \n",
      "203440  0.187296 -99.000  19.615913  20.137293  19.226173  19.427559   \n",
      "203441  0.205270 -99.000  19.537825  19.790167  19.750210  20.510195   \n",
      "203450  0.547508 -99.000  19.891062  21.301668  18.963003  18.067678   \n",
      "203457  0.244966 -99.000  19.881739  20.459455  19.522923  20.016617   \n",
      "\n",
      "           MAG_W2     MAG_W3     MAG_W4  MAGErr_R  MAGErr_G  MAGErr_Z  \\\n",
      "2       18.447739        NaN        NaN  0.005011  0.011483  0.003473   \n",
      "14      17.894524  16.168297  15.874641  0.003280  0.004822  0.003622   \n",
      "27      17.832317  17.713089  17.794498  0.003427  0.007174  0.002666   \n",
      "28      18.210846        NaN        NaN  0.003759  0.008169  0.003112   \n",
      "30      19.388649  17.874418  17.888485  0.014081  0.020077  0.014115   \n",
      "...           ...        ...        ...       ...       ...       ...   \n",
      "203438  18.270123  17.526314  15.837678  0.015090  0.029334  0.012849   \n",
      "203440  19.706017  17.626949  15.419001  0.011196  0.010507  0.013815   \n",
      "203441  20.495277  17.593616  16.825104  0.010099  0.007965  0.021137   \n",
      "203450  18.550543  18.368502        NaN  0.016293  0.031334  0.013096   \n",
      "203457  20.256939        NaN  17.890045  0.018189  0.016902  0.024589   \n",
      "\n",
      "        MAGErr_W1  MAGErr_W2  MAGErr_W3  MAGErr_W4  \n",
      "2        0.009083   0.029333  -9.551555  -0.682852  \n",
      "14       0.006690   0.019365   0.065676   0.428052  \n",
      "27       0.005147   0.016315   0.251950   2.410352  \n",
      "28       0.007235   0.024041  -4.193285  -0.575248  \n",
      "30       0.025581   0.066733   0.304107   2.751483  \n",
      "...           ...        ...        ...        ...  \n",
      "203438   0.009114   0.028403   0.255466   0.456562  \n",
      "203440   0.030568   0.090135   0.245604   0.292380  \n",
      "203441   0.082668   0.185614   0.234937   1.065051  \n",
      "203450   0.009188   0.032189   0.501685  -0.575829  \n",
      "203457   0.055220   0.156473  -1.734960   2.927527  \n",
      "\n",
      "[32009 rows x 20 columns]\n"
     ]
    }
   ],
   "source": [
    "DFMAGR20 = DF[DF['MAG_R'] < 20]\n",
    "print(DFMAGR20)"
   ]
  },
  {
   "cell_type": "markdown",
   "metadata": {
    "id": "tC_oqV_2FKK9"
   },
   "source": [
    "# Fit mag R and mag R < 20 using dataframe plot histogram"
   ]
  },
  {
   "cell_type": "code",
   "execution_count": 13,
   "metadata": {
    "colab": {
     "base_uri": "https://localhost:8080/",
     "height": 506
    },
    "id": "GV_-Kf5QFK8p",
    "outputId": "2130cfcf-19a0-4706-832a-81bba38f7b97"
   },
   "outputs": [
    {
     "data": {
      "image/png": "[encoded data removed]",
      "text/plain": [
       "<Figure size 1120x480 with 3 Axes>"
      ]
     },
     "metadata": {},
     "output_type": "display_data"
    }
   ],
   "source": [
    "\n",
    "hor = 3\n",
    "ver = 1\n",
    "\n",
    "plt.style.use('classic')\n",
    "\n",
    "fig = plt.figure(figsize=(14, 6), constrained_layout=True)\n",
    "gs = fig.add_gridspec(ver, hor, left=0.1, right=0.5, wspace=0.1)\n",
    "\n",
    "\n",
    "binsize=0.2\n",
    "def binarange(arr, binsize):\n",
    "    return np.arange(np.nanmin(arr), np.nanmax(arr)+binsize, binsize)\n",
    "\n",
    "\n",
    "ax = fig.add_subplot(gs[0, 0])\n",
    "bins0 = binarange(DF[\"MAG_R\"], binsize)\n",
    "ax = DF[\"MAG_R\"].plot.hist(bins=bins0, color='blue', alpha=0.7, label=\"MAG_R\")\n",
    "ax.set_title(\"MAG_R\")\n",
    "plt.legend(loc='upper left')\n",
    "\n",
    "ax = fig.add_subplot(gs[0, 1])\n",
    "bins1 = binarange(DFMAGR20[\"MAG_R\"], binsize)\n",
    "ax = DFMAGR20[\"MAG_R\"].plot.hist(bins=bins1, color='green', alpha=0.7, label=\"MAG_R < 20\")\n",
    "ax.set_title(\"MAG_R < 20\")\n",
    "plt.legend(loc='upper left')\n",
    "\n",
    "ax = fig.add_subplot(gs[0, 2])\n",
    "ax = DF[\"MAG_R\"].plot.hist(bins=bins0, color='blue', alpha=0.5, label=\"MAG_R\")\n",
    "ax = DFMAGR20[\"MAG_R\"].plot.hist(bins=bins0, color='green', alpha=0.5, label=\"MAG_R < 20\") # equal bins all mag r\n",
    "ax.set_title(\"Compare MAG_R and MAG_R < 20\")\n",
    "plt.legend(loc='upper left')\n",
    "\n",
    "plt.show\n",
    "plt.savefig(os.path.join(DriveSave,'PlotsHist_MAGR_Legacy.png'))"
   ]
  },
  {
   "cell_type": "markdown",
   "metadata": {
    "id": "kVwwbiTykwyu"
   },
   "source": [
    "# Saving and Load mag R in file format numpy python (.npy)"
   ]
  },
  {
   "cell_type": "code",
   "execution_count": 14,
   "metadata": {
    "id": "ga6J8LTvkxqi"
   },
   "outputs": [],
   "source": [
    "np.save(os.path.join(DriveSave,'Array_MAGR.npy'), np.array(DFMAGR20[\"MAG_R\"]))\n",
    "MAG_R = np.load(os.path.join(DriveSave,'Array_MAGR.npy'))"
   ]
  },
  {
   "cell_type": "markdown",
   "metadata": {
    "id": "S-LmM131x4fc"
   },
   "source": [
    "# Fitting with Seaborn mag R < 20 \n"
   ]
  },
  {
   "cell_type": "code",
   "execution_count": 15,
   "metadata": {
    "colab": {
     "base_uri": "https://localhost:8080/",
     "height": 594
    },
    "id": "fybwuS9OyI17",
    "outputId": "31a93cba-2306-4225-fbf8-bb164e6cdbf4"
   },
   "outputs": [
    {
     "data": {
      "image/png": "[encoded data removed]",
      "text/plain": [
       "<Figure size 640x640 with 1 Axes>"
      ]
     },
     "metadata": {},
     "output_type": "display_data"
    }
   ],
   "source": [
    "\n",
    "fig = plt.figure(figsize=(8,8))\n",
    "ax = seaborn.histplot(x=MAG_R, bins=bins1, label=\"MAG_R < 20 From Numpy\")\n",
    "ax.set_xlabel('$MAG_{R}$', fontsize=16)\n",
    "ax.legend(loc=\"best\")\n",
    "plt.savefig(os.path.join(DriveSave,'Hist_MAGR20_Legacy.png'))"
   ]
  },
  {
   "cell_type": "code",
   "execution_count": 16,
   "metadata": {
    "colab": {
     "base_uri": "https://localhost:8080/"
    },
    "id": "4kf0sfMqzEHX",
    "outputId": "6c9e4c8d-63ed-42f7-8b31-eaa713644abc"
   },
   "outputs": [],
   "source": [
    "#print(\"######## List files in local google colab:\")\n",
    "# !ls \n",
    "#print(\"******** List files in your google drive:\")\n",
    "# !ls drive/MyDrive/ \n"
   ]
  },
  {
   "cell_type": "markdown",
   "metadata": {
    "id": "qaWwd1cUtCDx"
   },
   "source": [
    "# Exercício 2 - magnitude limite do survey"
   ]
  },
  {
   "cell_type": "code",
   "execution_count": 17,
   "metadata": {
    "colab": {
     "base_uri": "https://localhost:8080/",
     "height": 548
    },
    "id": "-do-4MGyjf8U",
    "outputId": "ab600544-d1d0-462a-8cc8-75ab2f29e240"
   },
   "outputs": [
    {
     "data": {
      "text/html": [
       "<div><i>Table length=203622</i>\n",
       "<table id=\"table140704610555072\" class=\"table-striped table-bordered table-condensed\">\n",
       "<thead><tr><th>_id</th><th>z</th><th>zErr</th><th>zmin</th><th>zmax</th><th>z_spec</th><th>MAG_R</th><th>MAG_G</th><th>MAG_Z</th><th>MAG_W1</th><th>MAG_W2</th><th>MAG_W3</th><th>MAG_W4</th><th>MAGErr_R</th><th>MAGErr_G</th><th>MAGErr_Z</th><th>MAGErr_W1</th><th>MAGErr_W2</th><th>MAGErr_W3</th><th>MAGErr_W4</th></tr></thead>\n",
       "<thead><tr><th>str36</th><th>float64</th><th>float64</th><th>float64</th><th>float64</th><th>float64</th><th>float64</th><th>float64</th><th>float64</th><th>float64</th><th>float64</th><th>float64</th><th>float64</th><th>float64</th><th>float64</th><th>float64</th><th>float64</th><th>float64</th><th>float64</th><th>float64</th></tr></thead>\n",
       "<tr><td>219.0828951795450334.62503563674176</td><td>0.778901219367981</td><td>0.0807000398635864</td><td>0.7025620341300964</td><td>0.8639621138572693</td><td>-99.0</td><td>22.280200958251957</td><td>23.840595245361328</td><td>20.66927719116211</td><td>19.442676544189453</td><td>19.876930236816406</td><td>16.879316329956055</td><td>nan</td><td>0.0680691003799438</td><td>0.1866093575954437</td><td>0.0196474064141511</td><td>0.0302027501165866</td><td>0.1024158522486686</td><td>0.114776074886322</td><td>-0.0759001150727272</td></tr>\n",
       "<tr><td>219.01868665390734.62537369835652</td><td>0.3355111181735992</td><td>0.0546893626451492</td><td>0.2884486019611358</td><td>0.3978273272514343</td><td>-99.0</td><td>20.95097923278809</td><td>22.23949813842773</td><td>20.180450439453125</td><td>19.764698028564453</td><td>20.02762222290039</td><td>18.84068298339844</td><td>nan</td><td>0.0205843187868595</td><td>0.0509084574878215</td><td>0.0157572068274021</td><td>0.0408726818859577</td><td>0.1184769868850708</td><td>0.706566572189331</td><td>-0.7996485233306885</td></tr>\n",
       "<tr><td>218.976383127798134.626465741964694</td><td>0.2196822762489318</td><td>0.0107345357537269</td><td>0.209060937166214</td><td>0.2305300086736679</td><td>0.2060000002384185</td><td>18.89073944091797</td><td>20.20539665222168</td><td>18.109525680541992</td><td>18.055065155029297</td><td>18.447738647460938</td><td>nan</td><td>nan</td><td>0.0050110691227018</td><td>0.011482541449368</td><td>0.0034725747536867</td><td>0.0090829906985163</td><td>0.0293332356959581</td><td>-9.551554679870604</td><td>-0.6828519701957703</td></tr>\n",
       "<tr><td>218.9246198813485234.62559613136096</td><td>0.542923092842102</td><td>0.0513878762722015</td><td>0.4858550429344177</td><td>0.5886307954788208</td><td>-99.0</td><td>20.60637092590332</td><td>21.78163146972656</td><td>19.691598892211918</td><td>19.00655746459961</td><td>19.443334579467773</td><td>20.74881172180176</td><td>nan</td><td>0.0204794947057962</td><td>0.0432703346014022</td><td>0.0170611795037984</td><td>0.021253490820527</td><td>0.0718258917331695</td><td>4.317370414733887</td><td>-0.8430752158164978</td></tr>\n",
       "<tr><td>219.1042252828217234.62584794653823</td><td>0.2272058278322219</td><td>0.0333123728632926</td><td>0.1910546272993087</td><td>0.2576793730258941</td><td>-99.0</td><td>20.372390747070312</td><td>21.050525665283203</td><td>20.042388916015625</td><td>20.373193740844727</td><td>20.97327423095703</td><td>19.442487716674805</td><td>17.46992301940918</td><td>0.0187101941555738</td><td>0.0252136532217264</td><td>0.022851288318634</td><td>0.078671708703041</td><td>0.3042357563972473</td><td>1.281699299812317</td><td>1.7885087728500366</td></tr>\n",
       "<tr><td>219.140155119102634.63060062779776</td><td>0.4622515141963959</td><td>0.0653845965862274</td><td>0.3857685327529907</td><td>0.5165377259254456</td><td>-99.0</td><td>21.16820335388184</td><td>22.17804718017578</td><td>20.70537757873535</td><td>20.669546127319336</td><td>21.462276458740234</td><td>18.50033187866211</td><td>nan</td><td>0.0268041547387838</td><td>0.0508237928152084</td><td>0.0296423323452472</td><td>0.0958815664052963</td><td>0.4473698735237121</td><td>0.5076057314872742</td><td>-0.840893566608429</td></tr>\n",
       "<tr><td>...</td><td>...</td><td>...</td><td>...</td><td>...</td><td>...</td><td>...</td><td>...</td><td>...</td><td>...</td><td>...</td><td>...</td><td>...</td><td>...</td><td>...</td><td>...</td><td>...</td><td>...</td><td>...</td><td>...</td></tr>\n",
       "<tr><td>221.3099885174249635.03107476388605</td><td>0.4882799386978149</td><td>0.0388799905776977</td><td>0.4588622450828552</td><td>0.5366222262382507</td><td>-99.0</td><td>20.579233169555664</td><td>22.3169059753418</td><td>19.53986549377441</td><td>18.65705299377441</td><td>19.20832633972168</td><td>nan</td><td>19.94881820678711</td><td>0.034363854676485</td><td>0.07112767547369</td><td>0.0271973591297864</td><td>0.0155545407906174</td><td>0.05826186388731</td><td>-4.076931953430176</td><td>19.238523483276367</td></tr>\n",
       "<tr><td>221.3089951095346635.02957290846069</td><td>0.8793555498123169</td><td>0.0716804265975952</td><td>0.8045992255210876</td><td>0.947960078716278</td><td>-99.0</td><td>22.453113555908203</td><td>25.0500602722168</td><td>20.602703094482425</td><td>19.19376945495605</td><td>19.6783447265625</td><td>nan</td><td>17.728694915771484</td><td>0.1109761893749237</td><td>0.6832901835441589</td><td>0.0429267659783363</td><td>0.0244902148842811</td><td>0.0875700265169143</td><td>-1.8948737382888796</td><td>2.468910217285156</td></tr>\n",
       "<tr><td>221.384626937292535.03130360684637</td><td>0.3995134830474853</td><td>0.0296920835971832</td><td>0.3711370527744293</td><td>0.4305212199687958</td><td>-99.0</td><td>20.28984832763672</td><td>22.006526947021484</td><td>19.473064422607425</td><td>18.80082893371582</td><td>19.19900131225586</td><td>22.347728729248047</td><td>nan</td><td>0.0237903036177158</td><td>0.058753315359354</td><td>0.0232166722416877</td><td>0.0174525156617164</td><td>0.0569764599204063</td><td>18.655874252319336</td><td>-0.5042646527290344</td></tr>\n",
       "<tr><td>221.2671058669764435.03265425222566</td><td>0.5257939696311951</td><td>0.0763854682445526</td><td>0.4452908635139465</td><td>0.5980618000030518</td><td>-99.0</td><td>22.278854370117188</td><td>24.686527252197266</td><td>21.332008361816406</td><td>20.327465057373047</td><td>21.582365036010746</td><td>nan</td><td>15.524458885192873</td><td>0.1550211608409881</td><td>0.7033576369285583</td><td>0.1518812924623489</td><td>0.0705086439847946</td><td>0.5068475008010864</td><td>-0.1159524992108345</td><td>0.3188504874706268</td></tr>\n",
       "<tr><td>221.3579308393770835.0319557953791</td><td>0.4971484541893005</td><td>0.061960369348526</td><td>0.4447812438011169</td><td>0.568701982498169</td><td>-99.0</td><td>21.25609016418457</td><td>22.794084548950195</td><td>20.24463653564453</td><td>18.83496856689453</td><td>19.022401809692383</td><td>17.893970489501953</td><td>16.110782623291016</td><td>0.0579860396683216</td><td>0.1407640874385833</td><td>0.0468146950006485</td><td>0.0185217652469873</td><td>0.0498897284269332</td><td>0.3245720863342285</td><td>0.5615150332450867</td></tr>\n",
       "<tr><td>221.1400346667740635.031834870454304</td><td>0.5614101886749268</td><td>0.0347607135772705</td><td>0.5270323753356934</td><td>0.5965538024902344</td><td>-99.0</td><td>20.92877197265625</td><td>22.8109130859375</td><td>19.648155212402344</td><td>18.766456604003903</td><td>19.17987060546875</td><td>nan</td><td>nan</td><td>0.033461358398199</td><td>0.1116001680493354</td><td>0.0211004372686147</td><td>0.0168348029255867</td><td>0.056150197982788</td><td>-1.2860559225082395</td><td>-0.4604606926441192</td></tr>\n",
       "<tr><td>221.3061151788022335.032600651235455</td><td>0.6700193881988525</td><td>0.0827648341655731</td><td>0.60814368724823</td><td>0.7736733555793762</td><td>-99.0</td><td>22.02438735961914</td><td>23.51830101013184</td><td>20.66364288330078</td><td>19.73384094238281</td><td>20.51862525939941</td><td>nan</td><td>nan</td><td>0.0796922370791435</td><td>0.1864127963781356</td><td>0.0582942515611648</td><td>0.0407531149685382</td><td>0.1902618706226349</td><td>-0.7678796052932739</td><td>-0.5415232181549072</td></tr>\n",
       "</table></div>"
      ],
      "text/plain": [
       "<Table length=203622>\n",
       "                _id                          z          ...      MAGErr_W4     \n",
       "               str36                      float64       ...       float64      \n",
       "------------------------------------ ------------------ ... -------------------\n",
       " 219.0828951795450334.62503563674176  0.778901219367981 ... -0.0759001150727272\n",
       "   219.01868665390734.62537369835652 0.3355111181735992 ... -0.7996485233306885\n",
       " 218.976383127798134.626465741964694 0.2196822762489318 ... -0.6828519701957703\n",
       " 218.9246198813485234.62559613136096  0.542923092842102 ... -0.8430752158164978\n",
       " 219.1042252828217234.62584794653823 0.2272058278322219 ...  1.7885087728500366\n",
       "  219.140155119102634.63060062779776 0.4622515141963959 ...  -0.840893566608429\n",
       "                                 ...                ... ...                 ...\n",
       " 221.3099885174249635.03107476388605 0.4882799386978149 ...  19.238523483276367\n",
       " 221.3089951095346635.02957290846069 0.8793555498123169 ...   2.468910217285156\n",
       "  221.384626937292535.03130360684637 0.3995134830474853 ... -0.5042646527290344\n",
       " 221.2671058669764435.03265425222566 0.5257939696311951 ...  0.3188504874706268\n",
       "  221.3579308393770835.0319557953791 0.4971484541893005 ...  0.5615150332450867\n",
       "221.1400346667740635.031834870454304 0.5614101886749268 ... -0.4604606926441192\n",
       "221.3061151788022335.032600651235455 0.6700193881988525 ... -0.5415232181549072"
      ]
     },
     "execution_count": 17,
     "metadata": {},
     "output_type": "execute_result"
    }
   ],
   "source": [
    "cat_table"
   ]
  },
  {
   "cell_type": "code",
   "execution_count": 18,
   "metadata": {
    "id": "roISeJ1AmFER"
   },
   "outputs": [],
   "source": [
    "mag_g=np.array(cat_table[\"MAG_G\"])\n",
    "magerr_g=np.array(cat_table[\"MAGErr_G\"])"
   ]
  },
  {
   "cell_type": "code",
   "execution_count": 19,
   "metadata": {
    "id": "isF94LsAnIHq"
   },
   "outputs": [],
   "source": [
    "mag_g, magerr_g = zip(*sorted(zip(mag_g, magerr_g)))"
   ]
  },
  {
   "cell_type": "code",
   "execution_count": 20,
   "metadata": {
    "colab": {
     "base_uri": "https://localhost:8080/"
    },
    "id": "l6HLLV3JoJBr",
    "outputId": "a6d85e1b-7216-4e57-acac-69ee979de2d0"
   },
   "outputs": [
    {
     "data": {
      "text/plain": [
       "0.0002080538397422"
      ]
     },
     "execution_count": 20,
     "metadata": {},
     "output_type": "execute_result"
    }
   ],
   "source": [
    "magerr_g[0]"
   ]
  },
  {
   "cell_type": "code",
   "execution_count": 21,
   "metadata": {
    "colab": {
     "base_uri": "https://localhost:8080/"
    },
    "id": "6OdCEfIioR9u",
    "outputId": "d93ffed0-977e-4616-c85c-84c11f3f344a"
   },
   "outputs": [
    {
     "data": {
      "text/plain": [
       "2.42602801322937"
      ]
     },
     "execution_count": 21,
     "metadata": {},
     "output_type": "execute_result"
    }
   ],
   "source": [
    "magerr_g[-1]"
   ]
  },
  {
   "cell_type": "code",
   "execution_count": 22,
   "metadata": {
    "id": "o--AzKjVpOzH"
   },
   "outputs": [],
   "source": [
    "bin_x=np.array_split(mag_g, 10)\n",
    "bin_y=np.array_split(magerr_g, 10)"
   ]
  },
  {
   "cell_type": "code",
   "execution_count": 38,
   "metadata": {
    "id": "tf2PTRzuplWL"
   },
   "outputs": [],
   "source": [
    "x = []\n",
    "y = []\n",
    "y_err_inf = []\n",
    "y_err_sup = []\n",
    "x_err_inf = []\n",
    "x_err_sup = []\n",
    "for i in range(0, len(bin_x)):\n",
    "    x_err_inf.append(np.percentile(bin_x[i], 16))\n",
    "    x.append(np.percentile(bin_x[i], 50))\n",
    "    x_err_sup.append(np.percentile(bin_x[i], 64))\n",
    "    \n",
    "    y_err_inf.append(np.percentile(bin_y[i], 16))\n",
    "    y.append(np.percentile(bin_y[i], 50))\n",
    "    y_err_sup.append(np.percentile(bin_y[i], 64))"
   ]
  },
  {
   "cell_type": "code",
   "execution_count": 45,
   "metadata": {
    "colab": {
     "base_uri": "https://localhost:8080/",
     "height": 477
    },
    "id": "pktciwlbqGiK",
    "outputId": "9793bb2e-bdf0-4979-af98-23a77bc70abb"
   },
   "outputs": [
    {
     "data": {
      "text/plain": [
       "Text(0, 0.5, 'MAG_G_ERR')"
      ]
     },
     "execution_count": 45,
     "metadata": {},
     "output_type": "execute_result"
    },
    {
     "data": {
      "image/png": "[encoded data removed]",
      "text/plain": [
       "<Figure size 640x480 with 1 Axes>"
      ]
     },
     "metadata": {},
     "output_type": "display_data"
    }
   ],
   "source": [
    "for i in range(0, len(x)):\n",
    "    plt.errorbar(x[i], y[i], yerr=np.array([[y[i]-y_err_inf[i]], [y_err_sup[i]-y[i]]]), xerr=np.array([[x[i]-x_err_inf[i]], [x_err_sup[i]-x[i]]]), c='k')\n",
    "plt.plot(x, y, 'k.')\n",
    "plt.xlabel(\"MAG_G\")\n",
    "plt.ylabel(\"MAG_G_ERR\")"
   ]
  },
  {
   "cell_type": "code",
   "execution_count": 25,
   "metadata": {
    "id": "E88qndpwqJrF"
   },
   "outputs": [],
   "source": [
    "from scipy import interpolate"
   ]
  },
  {
   "cell_type": "code",
   "execution_count": 33,
   "metadata": {
    "id": "Mg7ZwnSsqeVU"
   },
   "outputs": [],
   "source": [
    "f=interpolate.interp1d(y, x, kind=\"cubic\")"
   ]
  },
  {
   "cell_type": "code",
   "execution_count": 35,
   "metadata": {},
   "outputs": [],
   "source": [
    "y_interp = np.linspace(min(y)+0.001, max(y)-0.001, 100)\n",
    "x_interp = f(y_interp)"
   ]
  },
  {
   "cell_type": "code",
   "execution_count": 37,
   "metadata": {
    "colab": {
     "base_uri": "https://localhost:8080/"
    },
    "id": "GFL4E_hbqgto",
    "outputId": "57f1dbe7-34b8-40bb-a389-8a3b93044150"
   },
   "outputs": [
    {
     "name": "stdout",
     "output_type": "stream",
     "text": [
      "limit magnitude:  23.823318958620987\n"
     ]
    }
   ],
   "source": [
    "print(\"Limit magnitude: \", f(0.2))"
   ]
  },
  {
   "cell_type": "code",
   "execution_count": 47,
   "metadata": {
    "colab": {
     "base_uri": "https://localhost:8080/",
     "height": 477
    },
    "id": "4ThlKDCWqh9N",
    "outputId": "766c8d8a-0c3c-4f05-d4d6-f2d6f91abe7d"
   },
   "outputs": [
    {
     "data": {
      "text/plain": [
       "<matplotlib.legend.Legend at 0x7ff7caf83fd0>"
      ]
     },
     "execution_count": 47,
     "metadata": {},
     "output_type": "execute_result"
    },
    {
     "data": {
      "image/png": "[encoded data removed]",
      "text/plain": [
       "<Figure size 640x480 with 1 Axes>"
      ]
     },
     "metadata": {},
     "output_type": "display_data"
    }
   ],
   "source": [
    "for i in range(0, len(x)):\n",
    "    plt.errorbar(x[i], y[i], yerr=np.array([[y[i]-y_err_inf[i]], [y_err_sup[i]-y[i]]]), xerr=np.array([[x[i]-x_err_inf[i]], [x_err_sup[i]-x[i]]]), c='k')\n",
    "plt.plot(x, y, 'k.')\n",
    "plt.plot(x_interp, y_interp, 'k')\n",
    "plt.axhline(y=0.2, color='r', linestyle='-', label=str(f(0.2)))\n",
    "plt.xlabel(\"MAG_G\")\n",
    "plt.ylabel(\"MAG_G_ERR\")\n",
    "plt.legend(loc=\"upper left\")"
   ]
  },
  {
   "cell_type": "code",
   "execution_count": null,
   "metadata": {
    "id": "vLWEK-dhsUy0"
   },
   "outputs": [],
   "source": []
  }
 ],
 "metadata": {
  "colab": {
   "collapsed_sections": [],
   "name": "exerc_2.ipynb",
   "provenance": []
  },
  "kernelspec": {
   "display_name": "Python 3 (ipykernel)",
   "language": "python",
   "name": "python3"
  },
  "language_info": {
   "codemirror_mode": {
    "name": "ipython",
    "version": 3
   },
   "file_extension": ".py",
   "mimetype": "text/x-python",
   "name": "python",
   "nbconvert_exporter": "python",
   "pygments_lexer": "ipython3",
   "version": "3.8.10"
  }
 },
 "nbformat": 4,
 "nbformat_minor": 1
}
